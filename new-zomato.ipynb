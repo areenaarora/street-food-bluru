{
 "cells": [
  {
   "cell_type": "code",
   "execution_count": 1,
   "id": "19cccefc",
   "metadata": {},
   "outputs": [
    {
     "name": "stderr",
     "output_type": "stream",
     "text": [
      "\n",
      "\n",
      "====== WebDriver manager ======\n",
      "Current google-chrome version is 98.0.4758\n",
      "Get LATEST chromedriver version for 98.0.4758 google-chrome\n",
      "Driver [/Users/areena.arora/.wdm/drivers/chromedriver/mac64/98.0.4758.80/chromedriver] found in cache\n",
      "/var/folders/81/2s24wkdd02j9528vnjsx7m080000gn/T/ipykernel_9174/977772498.py:8: DeprecationWarning: executable_path has been deprecated, please pass in a Service object\n",
      "  driver = webdriver.Chrome(ChromeDriverManager().install())\n"
     ]
    }
   ],
   "source": [
    "from selenium import webdriver\n",
    "from selenium.webdriver.common.by import By\n",
    "from selenium.webdriver.support.ui import WebDriverWait\n",
    "from selenium.webdriver.support import expected_conditions as EC\n",
    "from selenium.webdriver.support.ui import Select\n",
    "from webdriver_manager.chrome import ChromeDriverManager\n",
    "import time\n",
    "driver = webdriver.Chrome(ChromeDriverManager().install())"
   ]
  },
  {
   "cell_type": "code",
   "execution_count": 8,
   "id": "e529443b",
   "metadata": {},
   "outputs": [],
   "source": [
    "def scroll_down(self):\n",
    "    \"\"\"A method for scrolling the page.\"\"\"\n",
    "\n",
    "    # Get scroll height.\n",
    "    last_height = self.driver.execute_script(\"return document.body.scrollHeight\")\n",
    "\n",
    "    while True:\n",
    "\n",
    "        # Scroll down to the bottom.\n",
    "        self.driver.execute_script(\"window.scrollTo(0, document.body.scrollHeight);\")\n",
    "\n",
    "        # Wait to load the page.\n",
    "        time.sleep(50)\n",
    "\n",
    "        # Calculate new scroll height and compare with last scroll height.\n",
    "        new_height = self.driver.execute_script(\"return document.body.scrollHeight\")\n",
    "\n",
    "        if new_height == last_height:\n",
    "\n",
    "            break\n",
    "\n",
    "        last_height = new_height"
   ]
  },
  {
   "cell_type": "code",
   "execution_count": 9,
   "id": "8ad6e3b4",
   "metadata": {},
   "outputs": [],
   "source": [
    "bangalore_url = 'https://www.zomato.com/bangalore/restaurants/biryani?category=1'\n",
    "driver.get(bangalore_url)"
   ]
  },
  {
   "cell_type": "code",
   "execution_count": 10,
   "id": "9aaf1724",
   "metadata": {},
   "outputs": [
    {
     "name": "stdout",
     "output_type": "stream",
     "text": [
      "Biryani By Kilo\n",
      "Halli Jonne Biriyani\n",
      "The Biryani Zone - By Kouzina\n",
      "The Biryani Life\n",
      "Donne Biriyani Mane\n",
      "Ambur Hot Dum Biryani\n",
      "Simply South By YummyEats\n",
      "Ambur Dum Biryani\n",
      "Dum Biryani Hub\n"
     ]
    }
   ],
   "source": [
    "names = driver.find_elements(By.TAG_NAME, 'h4')\n",
    "for restaurant_name in names:\n",
    "    print(restaurant_name.get_attribute('innerHTML'))"
   ]
  },
  {
   "cell_type": "code",
   "execution_count": null,
   "id": "fe19e5a1",
   "metadata": {},
   "outputs": [],
   "source": []
  }
 ],
 "metadata": {
  "kernelspec": {
   "display_name": "Python 3 (ipykernel)",
   "language": "python",
   "name": "python3"
  },
  "language_info": {
   "codemirror_mode": {
    "name": "ipython",
    "version": 3
   },
   "file_extension": ".py",
   "mimetype": "text/x-python",
   "name": "python",
   "nbconvert_exporter": "python",
   "pygments_lexer": "ipython3",
   "version": "3.10.0"
  }
 },
 "nbformat": 4,
 "nbformat_minor": 5
}
