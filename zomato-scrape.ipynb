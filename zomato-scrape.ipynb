{
 "cells": [
  {
   "cell_type": "code",
   "execution_count": 1,
   "id": "e841192c",
   "metadata": {},
   "outputs": [],
   "source": [
    "# Do all the necessary imports\n",
    "from selenium import webdriver\n",
    "from selenium.webdriver.common.by import By\n",
    "from selenium.webdriver.support.ui import WebDriverWait\n",
    "from selenium.webdriver.support import expected_conditions as EC\n",
    "from selenium.webdriver.support.ui import Select\n",
    "from webdriver_manager.chrome import ChromeDriverManager\n",
    "import time"
   ]
  },
  {
   "cell_type": "code",
   "execution_count": 2,
   "id": "b0c9ce6e",
   "metadata": {},
   "outputs": [
    {
     "name": "stderr",
     "output_type": "stream",
     "text": [
      "\n",
      "\n",
      "====== WebDriver manager ======\n",
      "Current google-chrome version is 98.0.4758\n",
      "Get LATEST chromedriver version for 98.0.4758 google-chrome\n",
      "Driver [/Users/areena.arora/.wdm/drivers/chromedriver/mac64/98.0.4758.80/chromedriver] found in cache\n",
      "/var/folders/81/2s24wkdd02j9528vnjsx7m080000gn/T/ipykernel_11031/1677810314.py:2: DeprecationWarning: executable_path has been deprecated, please pass in a Service object\n",
      "  driver = webdriver.Chrome(ChromeDriverManager().install())\n"
     ]
    }
   ],
   "source": [
    "# Launch a new Chrome window\n",
    "driver = webdriver.Chrome(ChromeDriverManager().install())"
   ]
  },
  {
   "cell_type": "code",
   "execution_count": 3,
   "id": "8683f779",
   "metadata": {},
   "outputs": [],
   "source": [
    "bangalore_url = 'https://www.zomato.com/bangalore/restaurants/biryani?category=1'\n",
    "driver.get(bangalore_url)\n",
    "# driver.execute_script(\"window.scrollTo(0,document.body.scrollHeight)\")\n",
    "\n",
    "# time.sleep(100)"
   ]
  },
  {
   "cell_type": "code",
   "execution_count": 4,
   "id": "cb2ea722",
   "metadata": {},
   "outputs": [
    {
     "name": "stdout",
     "output_type": "stream",
     "text": [
      "Height didn't change, end of page, exiting\n"
     ]
    }
   ],
   "source": [
    "# Get the height of the page\n",
    "current_height = driver.execute_script('return document.body.scrollHeight')\n",
    "while True:\n",
    "    # Scroll to the bottom, wait for a couple seconds\n",
    "    driver.execute_script(\"window.scrollTo(0, document.body.scrollHeight - 1000)\")\n",
    "    time.sleep(4)\n",
    "    \n",
    "    # If it loaded new content, the height should have changed\n",
    "    prev_height = current_height\n",
    "    current_height = driver.execute_script('return document.body.scrollHeight')\n",
    "    if prev_height == current_height:\n",
    "        print(\"Height didn't change, end of page, exiting\")\n",
    "        break\n",
    "    else:\n",
    "        print(\"New page height is\", current_height, \"continuing to try to scroll\")"
   ]
  },
  {
   "cell_type": "code",
   "execution_count": null,
   "id": "496f07c4",
   "metadata": {},
   "outputs": [],
   "source": []
  },
  {
   "cell_type": "code",
   "execution_count": 5,
   "id": "28b53451",
   "metadata": {},
   "outputs": [],
   "source": [
    "# results = driver.find_elements(By.TAG_NAME, 'h4')\n",
    "# for r in results:\n",
    "#     print(r.get_attribute('innerHTML')).strip()"
   ]
  },
  {
   "cell_type": "code",
   "execution_count": 6,
   "id": "a0b4e6d1",
   "metadata": {},
   "outputs": [],
   "source": [
    "# first_result = results[0]\n",
    "# print(first_result.get_attribute('innerHTML'))"
   ]
  },
  {
   "cell_type": "code",
   "execution_count": 7,
   "id": "70272ddc",
   "metadata": {},
   "outputs": [],
   "source": [
    "class infine_scroll(object):\n",
    "   \n",
    "  def __init__(self, last):\n",
    "    self.last = last\n",
    "  def __call__(self, driver):\n",
    "    new = driver.execute_script('return document.body.scrollHeight')  \n",
    "    if new > self.last:\n",
    "        return new\n",
    "    else:\n",
    "        return False"
   ]
  },
  {
   "cell_type": "code",
   "execution_count": 8,
   "id": "70b18863",
   "metadata": {},
   "outputs": [
    {
     "name": "stdout",
     "output_type": "stream",
     "text": [
      "End of page reached\n"
     ]
    }
   ],
   "source": [
    "last_height = driver.execute_script('return document.body.scrollHeight')\n",
    "flag=1\n",
    "while flag==1:\n",
    "\n",
    "  driver.execute_script('window.scrollTo(0,document.body.scrollHeight)')\n",
    "\n",
    "  try:\n",
    "   wait = WebDriverWait(driver, 55)\n",
    "\n",
    "   new_height = wait.until(infinite_scroll( last_height))\n",
    "   last_height = new_height\n",
    "\n",
    "  except:\n",
    "      print(\"End of page reached\")\n",
    "      flag = 0"
   ]
  },
  {
   "cell_type": "code",
   "execution_count": 9,
   "id": "0826b74c",
   "metadata": {},
   "outputs": [],
   "source": [
    "names = driver.find_elements(By.TAG_NAME, 'h4')\n",
    "# for restaurant_name in names:\n",
    "#     print(restaurant_name.get_attribute('innerHTML'))"
   ]
  },
  {
   "cell_type": "code",
   "execution_count": 10,
   "id": "c4b0a283",
   "metadata": {},
   "outputs": [
    {
     "data": {
      "text/plain": [
       "9"
      ]
     },
     "execution_count": 10,
     "metadata": {},
     "output_type": "execute_result"
    }
   ],
   "source": [
    "len(names)"
   ]
  },
  {
   "cell_type": "code",
   "execution_count": 11,
   "id": "39d70b95",
   "metadata": {},
   "outputs": [
    {
     "name": "stdout",
     "output_type": "stream",
     "text": [
      "Gourmet Couch By ITC Gardenia\n",
      "Bucket Biryani\n",
      "Biryani Trip\n",
      "Biryani By Kilo\n",
      "Biryani And Pulao Collection By ITC Hotels\n",
      "Paradise Biryani\n",
      "Andhra Biryanis\n",
      "The Biryani Life\n",
      "Donne Biriyani House\n"
     ]
    }
   ],
   "source": [
    "for restaurant_name in names:\n",
    "    print(restaurant_name.get_attribute('innerHTML'))\n",
    "# 105 results with 100 wait time\n",
    "# 69 results with 50 wait time"
   ]
  },
  {
   "cell_type": "code",
   "execution_count": 12,
   "id": "9767cf48",
   "metadata": {},
   "outputs": [],
   "source": [
    "# ratings = driver.find_elements(By.CLASS_NAME, \"sc-1hez2tp-0 sc-cAJUJo fhTRhA\")\n",
    "# print(ratings)\n",
    "# # for restaurant_ratings in ratings:\n",
    "# #     print(restaurant_ratings.get_attribute(\"innerHTML\"))"
   ]
  },
  {
   "cell_type": "code",
   "execution_count": 13,
   "id": "6e3285f4",
   "metadata": {},
   "outputs": [],
   "source": [
    "# price = driver.find_elements(By.TAG_NAME, \"p\")\n",
    "# for x in price:\n",
    "#     print(x.get_attribute(\"innerHTML\"))"
   ]
  },
  {
   "cell_type": "code",
   "execution_count": 14,
   "id": "df0d429d",
   "metadata": {},
   "outputs": [],
   "source": [
    "# details = driver.find_elements(By.TAG_NAME, \"p\")\n",
    "# for detail in details:\n",
    "#     print(detail.get_attribute(\"innerHTML\"))"
   ]
  },
  {
   "cell_type": "code",
   "execution_count": 15,
   "id": "6cb789cf",
   "metadata": {},
   "outputs": [],
   "source": [
    "# len(details)"
   ]
  },
  {
   "cell_type": "code",
   "execution_count": 16,
   "id": "39351aab",
   "metadata": {},
   "outputs": [],
   "source": [
    "# details = driver.find_elements(By.TAG_NAME, \"p\")\n",
    "# for detail in details[4:]:\n",
    "#     print(detail.get_attribute(\"innerHTML\"))"
   ]
  }
 ],
 "metadata": {
  "kernelspec": {
   "display_name": "Python 3 (ipykernel)",
   "language": "python",
   "name": "python3"
  },
  "language_info": {
   "codemirror_mode": {
    "name": "ipython",
    "version": 3
   },
   "file_extension": ".py",
   "mimetype": "text/x-python",
   "name": "python",
   "nbconvert_exporter": "python",
   "pygments_lexer": "ipython3",
   "version": "3.10.0"
  }
 },
 "nbformat": 4,
 "nbformat_minor": 5
}
