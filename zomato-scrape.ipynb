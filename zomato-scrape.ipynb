{
 "cells": [
  {
   "cell_type": "code",
   "execution_count": 1,
   "id": "c7b73278",
   "metadata": {},
   "outputs": [],
   "source": [
    "# Do all the necessary imports\n",
    "from selenium import webdriver\n",
    "from selenium.webdriver.common.by import By\n",
    "from selenium.webdriver.support.ui import WebDriverWait\n",
    "from selenium.webdriver.support import expected_conditions as EC\n",
    "from selenium.webdriver.support.ui import Select\n",
    "from webdriver_manager.chrome import ChromeDriverManager\n",
    "import time"
   ]
  },
  {
   "cell_type": "code",
   "execution_count": 2,
   "id": "48b2c6f2",
   "metadata": {},
   "outputs": [
    {
     "name": "stderr",
     "output_type": "stream",
     "text": [
      "\n",
      "\n",
      "====== WebDriver manager ======\n",
      "Current google-chrome version is 98.0.4758\n",
      "Get LATEST chromedriver version for 98.0.4758 google-chrome\n",
      "Driver [/Users/areena.arora/.wdm/drivers/chromedriver/mac64/98.0.4758.80/chromedriver] found in cache\n",
      "/var/folders/81/2s24wkdd02j9528vnjsx7m080000gn/T/ipykernel_35015/1677810314.py:2: DeprecationWarning: executable_path has been deprecated, please pass in a Service object\n",
      "  driver = webdriver.Chrome(ChromeDriverManager().install())\n"
     ]
    }
   ],
   "source": [
    "# Launch a new Chrome window\n",
    "driver = webdriver.Chrome(ChromeDriverManager().install())"
   ]
  },
  {
   "cell_type": "code",
   "execution_count": 3,
   "id": "caf0fad2",
   "metadata": {},
   "outputs": [],
   "source": [
    "driver.get('https://www.zomato.com/bangalore/restaurants/biryani?category=1')\n",
    "driver.execute_script(\"window.scrollTo(0,document.body.scrollHeight)\")\n",
    "time.sleep(100)"
   ]
  },
  {
   "cell_type": "code",
   "execution_count": 4,
   "id": "dabec6fc",
   "metadata": {},
   "outputs": [],
   "source": [
    "# results = driver.find_elements(By.TAG_NAME, 'h4')\n",
    "# for r in results:\n",
    "#     print(r.get_attribute('innerHTML')).strip()"
   ]
  },
  {
   "cell_type": "code",
   "execution_count": 5,
   "id": "933f2f17",
   "metadata": {},
   "outputs": [],
   "source": [
    "# first_result = results[0]\n",
    "# print(first_result.get_attribute('innerHTML'))"
   ]
  },
  {
   "cell_type": "code",
   "execution_count": 6,
   "id": "0bc6e1c8",
   "metadata": {},
   "outputs": [
    {
     "name": "stdout",
     "output_type": "stream",
     "text": [
      "Shahi Restaurant\n",
      "Mani's Dum Biryani\n",
      "The Biryani Experiment\n",
      "Biryani By Kilo\n",
      "IBC (Indian Biryani Company)\n",
      "Andhra Gunpowder\n",
      "The Grand Hyderabad Biryani Restaurant\n",
      "Biryani Trip\n",
      "Biryani And Pulao Collection By ITC Hotels\n",
      "Donne Biriyani House\n",
      "Paradise Biryani\n",
      "The Biryani Life\n",
      "UBQ By Barbeque Nation\n",
      "Peetuk\n",
      "Nagarjuna\n",
      "Bullet Biryani\n",
      "Ammas Donne Biriyani House\n",
      "Biryani Mount\n",
      "Biryani Blues\n",
      "Ambur Star Dum Biryani\n",
      "Ambur Dum Biryani\n",
      "Express By ABs\n",
      "Gandhinagar Donne Biriyani\n",
      "Aalishan Restaurant &amp; Caterer\n",
      "Craft Of Biryani\n",
      "Singh Da Punjabi Dhaba\n",
      "Biryani Khazana\n",
      "Mega Biryani\n",
      "Deliciousfoodz\n",
      "Andhra Home Biryani\n",
      "Absolute Combos\n",
      "Mangalore Lunch Home\n",
      "Bombay Brasserie\n",
      "Delhi Darbar Restaurant And Cafe\n",
      "Bhairava's Multicuisine Restaurant\n",
      "Green Donne Biriyani And Kabab Center\n",
      "The Biryani Zone - By Kouzina\n",
      "Sri Maruthi Biriyani Corner\n",
      "Lama Restaurant\n",
      "Value Biryanis\n",
      "The Bengal Club\n",
      "Bullet Biryani\n",
      "All About Biryani  By Goldfinch\n",
      "Karnataka Biriyani Point\n",
      "Lucknowee\n",
      "Khandani Biryani\n",
      "Dhanyasri Briyani Centre\n",
      "Indian Spicy Mix\n",
      "Ammu's Biryani And Kabab\n",
      "Mega Biryani\n",
      "1591 Hyder Biryani\n",
      "Shivaji Maratha Khanavali\n",
      "Punjab Bistro\n",
      "Khan's Laziz Hotel\n",
      "Jaffer Bhai Biryani\n",
      "Dribble North Indian Food Factory\n",
      "Authentic Biryani World\n",
      "Biryani Boss\n",
      "Desi Biryani Cafe\n",
      "Raj Restaurant\n",
      "Zaffran Biryani\n",
      "Biryani Hotel\n",
      "Rhythm's Biryani\n",
      "Hosatodaku\n",
      "Shahenshah Biryani\n",
      "Gully Grill\n",
      "The Great Combo\n",
      "Nandhana Palace\n",
      "M.M.A Kababs Rolls And Biryani Center\n",
      "Nandhini Deluxe\n",
      "Chicken County Deluxe Restaurant\n",
      "Rotti Walla\n",
      "Andhra Ruchulu\n",
      "Prakriti Delux\n",
      "Empire Restaurant\n",
      "Meghana Foods\n",
      "Punjabi Nawabi\n",
      "Grill Biryanis\n",
      "Imperial Restaurant\n",
      "FreshMenu\n",
      "Behrouz Biryani\n",
      "Hyderabad Biryaani House\n",
      "Dindigul Thalappakatti\n",
      "Hotel Aditya\n",
      "Sharief Bhai\n",
      "Potful - Claypot Biryanis\n",
      "EatFit\n",
      "Chulha Chauki Da Dhaba\n",
      "Barbeque Nation\n",
      "Sree Banashankari Donne Biriyani\n",
      "Anjappar\n",
      "Orbis Restaurant\n",
      "Thalaivars Biryani\n",
      "Andhra Biryanis\n",
      "Aligarh House\n",
      "Hyderabad Biryani House\n",
      "Ambur Biryani Point\n",
      "D-Zaprino\n",
      "Ambur Star Briyani Since 1890\n",
      "Big Bowl Company\n",
      "Calicut Cafe Restaurant\n",
      "Biryani Canteen\n",
      "Shahi Family Restaurant\n",
      "Hamza Hotel\n",
      "Karnataka Chicken Biryani Point\n"
     ]
    }
   ],
   "source": [
    "names = driver.find_elements(By.TAG_NAME, 'h4')\n",
    "for restaurant_name in names:\n",
    "    print(restaurant_name.get_attribute('innerHTML'))"
   ]
  },
  {
   "cell_type": "code",
   "execution_count": 7,
   "id": "f2102f7e",
   "metadata": {},
   "outputs": [
    {
     "data": {
      "text/plain": [
       "105"
      ]
     },
     "execution_count": 7,
     "metadata": {},
     "output_type": "execute_result"
    }
   ],
   "source": [
    "len(names)"
   ]
  },
  {
   "cell_type": "code",
   "execution_count": null,
   "id": "d5e7d738",
   "metadata": {},
   "outputs": [],
   "source": []
  }
 ],
 "metadata": {
  "kernelspec": {
   "display_name": "Python 3 (ipykernel)",
   "language": "python",
   "name": "python3"
  },
  "language_info": {
   "codemirror_mode": {
    "name": "ipython",
    "version": 3
   },
   "file_extension": ".py",
   "mimetype": "text/x-python",
   "name": "python",
   "nbconvert_exporter": "python",
   "pygments_lexer": "ipython3",
   "version": "3.10.0"
  }
 },
 "nbformat": 4,
 "nbformat_minor": 5
}
