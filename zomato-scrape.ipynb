{
 "cells": [
  {
   "cell_type": "code",
   "execution_count": 1,
   "id": "e9eb9d49",
   "metadata": {},
   "outputs": [],
   "source": [
    "# Do all the necessary imports\n",
    "from selenium import webdriver\n",
    "from selenium.webdriver.common.by import By\n",
    "from selenium.webdriver.support.ui import WebDriverWait\n",
    "from selenium.webdriver.support import expected_conditions as EC\n",
    "from selenium.webdriver.support.ui import Select\n",
    "from webdriver_manager.chrome import ChromeDriverManager\n",
    "import time"
   ]
  },
  {
   "cell_type": "code",
   "execution_count": 2,
   "id": "bf16c0bf",
   "metadata": {},
   "outputs": [
    {
     "name": "stderr",
     "output_type": "stream",
     "text": [
      "\n",
      "\n",
      "====== WebDriver manager ======\n",
      "Current google-chrome version is 98.0.4758\n",
      "Get LATEST chromedriver version for 98.0.4758 google-chrome\n",
      "There is no [mac64] chromedriver for browser  in cache\n",
      "Trying to download new driver from https://chromedriver.storage.googleapis.com/98.0.4758.80/chromedriver_mac64.zip\n",
      "Driver has been saved in cache [/Users/areena.arora/.wdm/drivers/chromedriver/mac64/98.0.4758.80]\n",
      "/var/folders/81/2s24wkdd02j9528vnjsx7m080000gn/T/ipykernel_34279/1677810314.py:2: DeprecationWarning: executable_path has been deprecated, please pass in a Service object\n",
      "  driver = webdriver.Chrome(ChromeDriverManager().install())\n"
     ]
    }
   ],
   "source": [
    "# Launch a new Chrome window\n",
    "driver = webdriver.Chrome(ChromeDriverManager().install())"
   ]
  },
  {
   "cell_type": "code",
   "execution_count": 3,
   "id": "d885e057",
   "metadata": {},
   "outputs": [],
   "source": [
    "driver.get('https://www.zomato.com/bangalore/restaurants/biryani?category=1')"
   ]
  },
  {
   "cell_type": "code",
   "execution_count": null,
   "id": "9aa02502",
   "metadata": {},
   "outputs": [],
   "source": [
    "# results = driver.find_elements(By.TAG_NAME, 'h4')\n",
    "# for r in results:\n",
    "#     print(r.get_attribute('innerHTML')).strip()"
   ]
  },
  {
   "cell_type": "code",
   "execution_count": null,
   "id": "914cb46a",
   "metadata": {},
   "outputs": [],
   "source": [
    "# first_result = results[0]\n",
    "# print(first_result.get_attribute('innerHTML'))"
   ]
  },
  {
   "cell_type": "code",
   "execution_count": 5,
   "id": "e696dbf9",
   "metadata": {},
   "outputs": [
    {
     "name": "stdout",
     "output_type": "stream",
     "text": [
      "Shahi Restaurant\n",
      "Mani's Dum Biryani\n",
      "The Biryani Experiment\n",
      "Bucket Biryani\n",
      "Thalaivars Biryani\n",
      "Biryani By Kilo\n",
      "Dindigul Thalappakatti\n",
      "Andhra Gunpowder\n",
      "IBC (Indian Biryani Company)\n",
      "Biryani Trip\n",
      "Paradise Biryani\n",
      "The Biryani Life\n",
      "Chikpet Donne Biriyani House\n",
      "UBQ By Barbeque Nation\n",
      "Nagarjuna\n",
      "Bullet Biryani\n",
      "Biryani Blues\n",
      "Ambur Star Dum Biryani\n",
      "Express By ABs\n",
      "Gandhinagar Donne Biriyani\n",
      "The Grand Hyderabad Biryani Restaurant\n"
     ]
    }
   ],
   "source": [
    "names = driver.find_elements(By.TAG_NAME, 'h4')\n",
    "for restaurant_name in names:\n",
    "    print(restaurant_name.get_attribute('innerHTML'))"
   ]
  },
  {
   "cell_type": "code",
   "execution_count": null,
   "id": "31364f45",
   "metadata": {},
   "outputs": [],
   "source": []
  }
 ],
 "metadata": {
  "kernelspec": {
   "display_name": "Python 3 (ipykernel)",
   "language": "python",
   "name": "python3"
  },
  "language_info": {
   "codemirror_mode": {
    "name": "ipython",
    "version": 3
   },
   "file_extension": ".py",
   "mimetype": "text/x-python",
   "name": "python",
   "nbconvert_exporter": "python",
   "pygments_lexer": "ipython3",
   "version": "3.10.0"
  }
 },
 "nbformat": 4,
 "nbformat_minor": 5
}
